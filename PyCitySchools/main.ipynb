{
 "cells": [
  {
   "cell_type": "code",
   "execution_count": null,
   "metadata": {},
   "outputs": [],
   "source": [
    "# import nessacary packages\n",
    "import pandas as pd\n"
   ]
  },
  {
   "cell_type": "code",
   "execution_count": null,
   "metadata": {},
   "outputs": [],
   "source": [
    "pwd\n"
   ]
  },
  {
   "cell_type": "code",
   "execution_count": null,
   "metadata": {},
   "outputs": [],
   "source": [
    "# load student file\n",
    "\n",
    "students = \"../Resources/students_complete.csv\"\n",
    "\n",
    "# Create DataFrame\n",
    "\n",
    "students_df = pd.read_csv(students)\n",
    "\n",
    "# show head of DataFrame\n",
    "\n",
    "students_df.head()\n",
    "\n"
   ]
  },
  {
   "cell_type": "code",
   "execution_count": null,
   "metadata": {},
   "outputs": [],
   "source": [
    "# load school file, assign variable to file name\n",
    "\n",
    "schools = \"../Resources/schools_complete.csv\"\n",
    "\n",
    "# convert into DF\n",
    "\n",
    "school_df = pd.read_csv(schools)\n",
    "\n",
    "# show head of DF\n",
    "\n",
    "school_df.tail()\n",
    "\n",
    "    \n"
   ]
  },
  {
   "cell_type": "code",
   "execution_count": null,
   "metadata": {},
   "outputs": [],
   "source": [
    "# merge schools and students data frame to create new dataframe\n",
    "\n",
    "combined_df = pd.merge(school_df, students_df, on=\"school_name\")\n",
    "combined_df.tail(5)\n",
    "\n"
   ]
  },
  {
   "cell_type": "code",
   "execution_count": null,
   "metadata": {},
   "outputs": [],
   "source": [
    "# creating high level district over view\n",
    "\n",
    "# finding unique number of schools\n",
    "\n",
    "num_schools = combined_df[\"school_name\"].nunique()\n",
    "num_schools\n",
    "\n",
    "\n",
    "\n",
    "# finding average of math scores\n",
    "average_math_score = combined_df[\"math_score\"].mean()\n",
    "average_math_score\n",
    "\n",
    "#finding average of math scores\n",
    "\n",
    "average_reading = combined_df[\"reading_score\"].mean()\n",
    "average_reading\n",
    "\n",
    "# find unique number of students\n",
    "\n",
    "num_students = combined_df[\"student_name\"].count()\n",
    "num_students\n"
   ]
  },
  {
   "cell_type": "code",
   "execution_count": null,
   "metadata": {},
   "outputs": [],
   "source": [
    "# finding sum of the budget\n",
    "\n",
    "budget = combined_df[\"budget\"].unique()\n",
    "total_budget = budget.sum()\n",
    "\n",
    "total_budget\n",
    "\n"
   ]
  },
  {
   "cell_type": "code",
   "execution_count": null,
   "metadata": {},
   "outputs": [],
   "source": [
    "#finding average of reading score\n",
    "\n",
    "average_reading = combined_df[\"reading_score\"].mean()\n",
    "average_reading"
   ]
  },
  {
   "cell_type": "code",
   "execution_count": null,
   "metadata": {},
   "outputs": [],
   "source": [
    "# finding average of math scores\n",
    "\n",
    "average_math_score = combined_df[\"math_score\"].mean()\n",
    "average_math_score"
   ]
  },
  {
   "cell_type": "code",
   "execution_count": null,
   "metadata": {},
   "outputs": [],
   "source": [
    "# new dataframe to aggregate passing  math scores\n",
    "\n",
    "only_passing_math = combined_df.loc[(combined_df[\"math_score\"]> 69)]\n",
    "only_passing_math.head(3)\n",
    "\n",
    "only_passing_math[\"math_score\"].count()\n",
    "\n",
    "percent_passing_math = (only_passing_math[\"math_score\"].count()/\n",
    "                        combined_df[\"student_name\"].count())\n",
    "\n",
    "percent_passing_math\n",
    "\n"
   ]
  },
  {
   "cell_type": "code",
   "execution_count": null,
   "metadata": {},
   "outputs": [],
   "source": [
    "# new dataframe to aggregate passing reading scores\n",
    "\n",
    "only_passing_reading = combined_df.loc[(combined_df[\"reading_score\"]> 69)]\n",
    "only_passing_reading.head(3)\n",
    "\n",
    "only_passing_reading[\"reading_score\"].count()\n",
    "\n",
    "percent_passing_reading = (only_passing_reading[\"reading_score\"].count()/\n",
    "                        combined_df[\"student_name\"].count())\n",
    "\n",
    "percent_passing_reading\n"
   ]
  },
  {
   "cell_type": "code",
   "execution_count": null,
   "metadata": {},
   "outputs": [],
   "source": [
    "overall_passing_rate = ((percent_passing_reading) + (percent_passing_math)) / 2\n",
    "\n",
    "overall_passing_rate\n"
   ]
  },
  {
   "cell_type": "code",
   "execution_count": null,
   "metadata": {},
   "outputs": [],
   "source": [
    "# creat new district summerry table from above info\n",
    "\n",
    "Summery_DF_District =pd.DataFrame({\"Total Schools\": [num_schools],\n",
    " \"Total Budget\": [total_budget],\n",
    "  \"Average Math Score\": [average_math_score],\n",
    "  \"Average Reading Score\": [average_reading],\n",
    "   \"% Passing Math\" :[percent_passing_math],\n",
    "  \"% Passing Reading\" :[percent_passing_reading],\n",
    "  \"Overall Passing Rate\" :[overall_passing_rate]\n",
    " })\n",
    "\n",
    "Summery_DF_District\n"
   ]
  },
  {
   "cell_type": "code",
   "execution_count": null,
   "metadata": {},
   "outputs": [],
   "source": [
    "names_of_schools = school_df[\"school_name\"]\n",
    "names_of_schools\n"
   ]
  },
  {
   "cell_type": "code",
   "execution_count": null,
   "metadata": {},
   "outputs": [],
   "source": [
    "# create new dataframe to display school statistics\n",
    "DF_to_combine = pd.DataFrame({\n",
    "     \"School ID\" : [0],\n",
    "     \"Per Student Budget\": [0],\n",
    "     \"Average Math Score\": [0],\n",
    "     \"Average Reading Score\":[0],\n",
    "     \" % Passing Math\": [0],\n",
    "     \"% Passing Reading\": [0],\n",
    "     \"Overall Passing Rate\": [0],\n",
    "     })\n",
    "\n",
    "DF_to_combine\n",
    " "
   ]
  },
  {
   "cell_type": "code",
   "execution_count": null,
   "metadata": {},
   "outputs": [],
   "source": [
    "# merge schools and students data frame to create new dataframe\n",
    "\n",
    "school_stats_DF = pd.merge(school_df, DF_to_combine, on=\"School ID\", how=\"left\")\n",
    "school_stats_DF.head()\n",
    "# creating new table summerry for school aggregations\n",
    "\n",
    "#Create an overview table that summarizes key metrics about each school, including:\n",
    " "
   ]
  },
  {
   "cell_type": "code",
   "execution_count": null,
   "metadata": {},
   "outputs": [],
   "source": [
    "school_df.head()"
   ]
  },
  {
   "cell_type": "code",
   "execution_count": null,
   "metadata": {},
   "outputs": [],
   "source": [
    "#### working calc to find a few values\n",
    "\n",
    "#grouped_schools = combined_df.\\\n",
    "                  # groupby(['school_name','type','budget'])\\\n",
    "                   #[['math_score','reading_score']].mean()\n",
    "\n"
   ]
  },
  {
   "cell_type": "code",
   "execution_count": null,
   "metadata": {},
   "outputs": [],
   "source": [
    "# performing calculation to find per student budget value\n",
    "\n",
    "Per_stud_bud = school_df[\"budget\"]/school_df[\"size\"]\n",
    "Per_stud_bud"
   ]
  },
  {
   "cell_type": "code",
   "execution_count": null,
   "metadata": {},
   "outputs": [],
   "source": [
    "per_stud_bud_series = pd.Series(per_stud_bud)"
   ]
  },
  {
   "cell_type": "code",
   "execution_count": null,
   "metadata": {},
   "outputs": [],
   "source": [
    "auth_series = pd.Series(author) \n",
    "article_series = pd.Series(article) "
   ]
  },
  {
   "cell_type": "code",
   "execution_count": null,
   "metadata": {},
   "outputs": [],
   "source": [
    "# performing calculation to find average match score\n",
    "\n",
    "aver_math_score = combined_df.groupby(['school_name'])['math_score'].mean()\n"
   ]
  },
  {
   "cell_type": "code",
   "execution_count": null,
   "metadata": {},
   "outputs": [],
   "source": [
    "aver_math_score_series = pd.Series(aver_math_score)"
   ]
  },
  {
   "cell_type": "code",
   "execution_count": null,
   "metadata": {},
   "outputs": [],
   "source": []
  },
  {
   "cell_type": "code",
   "execution_count": null,
   "metadata": {},
   "outputs": [],
   "source": [
    "# for reading score\n",
    "\n",
    "aver_read_score = combined_df.groupby(['school_name'])['reading_score'].mean()"
   ]
  },
  {
   "cell_type": "code",
   "execution_count": null,
   "metadata": {},
   "outputs": [],
   "source": [
    "print(aver_read_score)"
   ]
  },
  {
   "cell_type": "code",
   "execution_count": null,
   "metadata": {},
   "outputs": [],
   "source": [
    "aver_read_score_series = pd.Series(aver_read_score)"
   ]
  },
  {
   "cell_type": "code",
   "execution_count": 146,
   "metadata": {},
   "outputs": [
    {
     "name": "stdout",
     "output_type": "stream",
     "text": [
      "                       Per Student Budget  Average_Reading_Score  \\\n",
      "0                                   655.0                    NaN   \n",
      "1                                   639.0                    NaN   \n",
      "2                                   600.0                    NaN   \n",
      "3                                   652.0                    NaN   \n",
      "4                                   625.0                    NaN   \n",
      "5                                   578.0                    NaN   \n",
      "6                                   582.0                    NaN   \n",
      "7                                   628.0                    NaN   \n",
      "8                                   581.0                    NaN   \n",
      "9                                   609.0                    NaN   \n",
      "10                                  583.0                    NaN   \n",
      "11                                  637.0                    NaN   \n",
      "12                                  650.0                    NaN   \n",
      "13                                  644.0                    NaN   \n",
      "14                                  638.0                    NaN   \n",
      "Bailey High School                    NaN              81.033963   \n",
      "Cabrera High School                   NaN              83.975780   \n",
      "Figueroa High School                  NaN              81.158020   \n",
      "Ford High School                      NaN              80.746258   \n",
      "Griffin High School                   NaN              83.816757   \n",
      "Hernandez High School                 NaN              80.934412   \n",
      "Holden High School                    NaN              83.814988   \n",
      "Huang High School                     NaN              81.182722   \n",
      "Johnson High School                   NaN              80.966394   \n",
      "Pena High School                      NaN              84.044699   \n",
      "Rodriguez High School                 NaN              80.744686   \n",
      "Shelton High School                   NaN              83.725724   \n",
      "Thomas High School                    NaN              83.848930   \n",
      "Wilson High School                    NaN              83.989488   \n",
      "Wright High School                    NaN              83.955000   \n",
      "\n",
      "                       Average_Math_Score  \n",
      "0                                     NaN  \n",
      "1                                     NaN  \n",
      "2                                     NaN  \n",
      "3                                     NaN  \n",
      "4                                     NaN  \n",
      "5                                     NaN  \n",
      "6                                     NaN  \n",
      "7                                     NaN  \n",
      "8                                     NaN  \n",
      "9                                     NaN  \n",
      "10                                    NaN  \n",
      "11                                    NaN  \n",
      "12                                    NaN  \n",
      "13                                    NaN  \n",
      "14                                    NaN  \n",
      "Bailey High School              77.048432  \n",
      "Cabrera High School             83.061895  \n",
      "Figueroa High School            76.711767  \n",
      "Ford High School                77.102592  \n",
      "Griffin High School             83.351499  \n",
      "Hernandez High School           77.289752  \n",
      "Holden High School              83.803279  \n",
      "Huang High School               76.629414  \n",
      "Johnson High School             77.072464  \n",
      "Pena High School                83.839917  \n",
      "Rodriguez High School           76.842711  \n",
      "Shelton High School             83.359455  \n",
      "Thomas High School              83.418349  \n",
      "Wilson High School              83.274201  \n",
      "Wright High School              83.682222  \n"
     ]
    }
   ],
   "source": [
    "Per_stud_bud_series = pd.Series(Per_stud_bud)\n",
    "aver_read_score_series = pd.Series(aver_read_score)\n",
    "aver_math_score_series = pd.Series(aver_math_score)\n",
    "\n",
    "stud_bud_ave = { 'Per Student Budget': Per_stud_bud, 'Average_Reading_Score': aver_read_score, \n",
    "                'Average_Math_Score': aver_math_score\n",
    "                 } \n",
    "\n",
    "\n",
    "stud_bud_ave = pd.DataFrame(stud_bud_ave)\n",
    "\n",
    "print(stud_bud_ave)\n",
    "\n",
    "\n",
    "\n"
   ]
  },
  {
   "cell_type": "code",
   "execution_count": null,
   "metadata": {},
   "outputs": [],
   "source": []
  },
  {
   "cell_type": "code",
   "execution_count": null,
   "metadata": {},
   "outputs": [],
   "source": [
    "# finding passing reading \n",
    "passing_reading_tot = students_df.groupby([students_df['reading_score'] > 69])[\"school_name\"].count()\n",
    "passing_reading_tot "
   ]
  },
  {
   "cell_type": "code",
   "execution_count": null,
   "metadata": {},
   "outputs": [],
   "source": [
    "only_passing_math = combined_df.loc[(combined_df[\"math_score\"]> 69)]\n",
    "only_passing_math.head(3)"
   ]
  },
  {
   "cell_type": "code",
   "execution_count": 137,
   "metadata": {},
   "outputs": [
    {
     "data": {
      "text/html": [
       "<div>\n",
       "<style scoped>\n",
       "    .dataframe tbody tr th:only-of-type {\n",
       "        vertical-align: middle;\n",
       "    }\n",
       "\n",
       "    .dataframe tbody tr th {\n",
       "        vertical-align: top;\n",
       "    }\n",
       "\n",
       "    .dataframe thead th {\n",
       "        text-align: right;\n",
       "    }\n",
       "</style>\n",
       "<table border=\"1\" class=\"dataframe\">\n",
       "  <thead>\n",
       "    <tr style=\"text-align: right;\">\n",
       "      <th></th>\n",
       "      <th>Per Student Budget</th>\n",
       "      <th>Average Math Score</th>\n",
       "      <th>Average Reading Score</th>\n",
       "    </tr>\n",
       "  </thead>\n",
       "  <tbody>\n",
       "    <tr>\n",
       "      <th>0</th>\n",
       "      <td>0     655.0\n",
       "1     639.0\n",
       "2     600.0\n",
       "3     652....</td>\n",
       "      <td>school_name\n",
       "Bailey High School       77.048432...</td>\n",
       "      <td>school_name\n",
       "Bailey High School       81.033963...</td>\n",
       "    </tr>\n",
       "  </tbody>\n",
       "</table>\n",
       "</div>"
      ],
      "text/plain": [
       "                                  Per Student Budget  \\\n",
       "0  0     655.0\n",
       "1     639.0\n",
       "2     600.0\n",
       "3     652....   \n",
       "\n",
       "                                  Average Math Score  \\\n",
       "0  school_name\n",
       "Bailey High School       77.048432...   \n",
       "\n",
       "                               Average Reading Score  \n",
       "0  school_name\n",
       "Bailey High School       81.033963...  "
      ]
     },
     "execution_count": 137,
     "metadata": {},
     "output_type": "execute_result"
    }
   ],
   "source": [
    "stud_bud_ave = pd.DataFrame({\n",
    "    \"Per Student Budget\":[Per_stud_bud],\n",
    "    \"Average Math Score\":[aver_math_score],\n",
    "    \"Average Reading Score\": [aver_read_score]})\n",
    "\n",
    "stud_bud_ave"
   ]
  },
  {
   "cell_type": "code",
   "execution_count": null,
   "metadata": {},
   "outputs": [],
   "source": []
  }
 ],
 "metadata": {
  "kernelspec": {
   "display_name": "Python [conda env:PythonData]",
   "language": "python",
   "name": "conda-env-PythonData-py"
  },
  "language_info": {
   "codemirror_mode": {
    "name": "ipython",
    "version": 3
   },
   "file_extension": ".py",
   "mimetype": "text/x-python",
   "name": "python",
   "nbconvert_exporter": "python",
   "pygments_lexer": "ipython3",
   "version": "3.6.9"
  }
 },
 "nbformat": 4,
 "nbformat_minor": 4
}
