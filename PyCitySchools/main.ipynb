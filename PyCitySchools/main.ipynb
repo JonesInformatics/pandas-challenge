{
 "cells": [
  {
   "cell_type": "code",
   "execution_count": 1,
   "metadata": {},
   "outputs": [],
   "source": [
    "#import neccessary packages\n",
    "\n",
    "import pandas as pd"
   ]
  },
  {
   "cell_type": "code",
   "execution_count": 6,
   "metadata": {},
   "outputs": [
    {
     "data": {
      "text/plain": [
       "'C:\\\\Users\\\\lizba\\\\Desktop\\\\DataViz\\\\homework\\\\pandas-challenge\\\\PyCitySchools'"
      ]
     },
     "execution_count": 6,
     "metadata": {},
     "output_type": "execute_result"
    }
   ],
   "source": [
    "pwd\n"
   ]
  },
  {
   "cell_type": "code",
   "execution_count": 8,
   "metadata": {},
   "outputs": [
    {
     "data": {
      "text/html": [
       "<div>\n",
       "<style scoped>\n",
       "    .dataframe tbody tr th:only-of-type {\n",
       "        vertical-align: middle;\n",
       "    }\n",
       "\n",
       "    .dataframe tbody tr th {\n",
       "        vertical-align: top;\n",
       "    }\n",
       "\n",
       "    .dataframe thead th {\n",
       "        text-align: right;\n",
       "    }\n",
       "</style>\n",
       "<table border=\"1\" class=\"dataframe\">\n",
       "  <thead>\n",
       "    <tr style=\"text-align: right;\">\n",
       "      <th></th>\n",
       "      <th>Student ID</th>\n",
       "      <th>student_name</th>\n",
       "      <th>gender</th>\n",
       "      <th>grade</th>\n",
       "      <th>school_name</th>\n",
       "      <th>reading_score</th>\n",
       "      <th>math_score</th>\n",
       "    </tr>\n",
       "  </thead>\n",
       "  <tbody>\n",
       "    <tr>\n",
       "      <th>0</th>\n",
       "      <td>0</td>\n",
       "      <td>Paul Bradley</td>\n",
       "      <td>M</td>\n",
       "      <td>9th</td>\n",
       "      <td>Huang High School</td>\n",
       "      <td>66</td>\n",
       "      <td>79</td>\n",
       "    </tr>\n",
       "    <tr>\n",
       "      <th>1</th>\n",
       "      <td>1</td>\n",
       "      <td>Victor Smith</td>\n",
       "      <td>M</td>\n",
       "      <td>12th</td>\n",
       "      <td>Huang High School</td>\n",
       "      <td>94</td>\n",
       "      <td>61</td>\n",
       "    </tr>\n",
       "    <tr>\n",
       "      <th>2</th>\n",
       "      <td>2</td>\n",
       "      <td>Kevin Rodriguez</td>\n",
       "      <td>M</td>\n",
       "      <td>12th</td>\n",
       "      <td>Huang High School</td>\n",
       "      <td>90</td>\n",
       "      <td>60</td>\n",
       "    </tr>\n",
       "    <tr>\n",
       "      <th>3</th>\n",
       "      <td>3</td>\n",
       "      <td>Dr. Richard Scott</td>\n",
       "      <td>M</td>\n",
       "      <td>12th</td>\n",
       "      <td>Huang High School</td>\n",
       "      <td>67</td>\n",
       "      <td>58</td>\n",
       "    </tr>\n",
       "    <tr>\n",
       "      <th>4</th>\n",
       "      <td>4</td>\n",
       "      <td>Bonnie Ray</td>\n",
       "      <td>F</td>\n",
       "      <td>9th</td>\n",
       "      <td>Huang High School</td>\n",
       "      <td>97</td>\n",
       "      <td>84</td>\n",
       "    </tr>\n",
       "  </tbody>\n",
       "</table>\n",
       "</div>"
      ],
      "text/plain": [
       "   Student ID       student_name gender grade        school_name  \\\n",
       "0           0       Paul Bradley      M   9th  Huang High School   \n",
       "1           1       Victor Smith      M  12th  Huang High School   \n",
       "2           2    Kevin Rodriguez      M  12th  Huang High School   \n",
       "3           3  Dr. Richard Scott      M  12th  Huang High School   \n",
       "4           4         Bonnie Ray      F   9th  Huang High School   \n",
       "\n",
       "   reading_score  math_score  \n",
       "0             66          79  \n",
       "1             94          61  \n",
       "2             90          60  \n",
       "3             67          58  \n",
       "4             97          84  "
      ]
     },
     "execution_count": 8,
     "metadata": {},
     "output_type": "execute_result"
    }
   ],
   "source": [
    "# load student file\n",
    "students = \"Resources/students_complete.csv\"\n",
    "\n",
    "# Create DataFrame\n",
    "\n",
    "students_df = pd.read_csv(students)\n",
    "\n",
    "# show head of DataFrame\n",
    "\n",
    "students_df.head()"
   ]
  },
  {
   "cell_type": "code",
   "execution_count": null,
   "metadata": {},
   "outputs": [],
   "source": [
    "# load school file, assign variable to file name\n",
    "\n",
    "schools = \"../homework/Resources/schools_complete.csv\"\n",
    "\n",
    "# convert into DF\n",
    "\n",
    "school_df = pd.read_csv(schools)\n",
    "\n",
    "# show head of DF\n",
    "\n",
    "school_df.head()"
   ]
  },
  {
   "cell_type": "code",
   "execution_count": null,
   "metadata": {},
   "outputs": [],
   "source": [
    "# merge school_df and students_df to create new dataframe\n",
    "\n",
    "combined_df = pd.merge(school_df, students_df, on=\"school_name\")\n",
    "combined_df.head(1)"
   ]
  },
  {
   "cell_type": "code",
   "execution_count": null,
   "metadata": {},
   "outputs": [],
   "source": [
    "# creating high level district over view\n",
    "\n",
    "# finding unique number of schools\n",
    "\n",
    "num_schools = combined_df[\"school_name\"].nunique()\n",
    "num_schools\n"
   ]
  },
  {
   "cell_type": "code",
   "execution_count": null,
   "metadata": {},
   "outputs": [],
   "source": [
    "# finding average of math scores\n",
    "average_math_score = combined_df[\"math_score\"].mean()\n",
    "average_math_score"
   ]
  },
  {
   "cell_type": "code",
   "execution_count": null,
   "metadata": {},
   "outputs": [],
   "source": [
    "# finding average of reading score\n",
    "average_reading = combined_df[\"reading_score\"].mean()\n",
    "average_reading"
   ]
  },
  {
   "cell_type": "code",
   "execution_count": null,
   "metadata": {},
   "outputs": [],
   "source": [
    "# find unique number of students\n",
    "\n",
    "num_students = combined_df[\"student_name\"].count()\n",
    "num_students"
   ]
  },
  {
   "cell_type": "code",
   "execution_count": null,
   "metadata": {},
   "outputs": [],
   "source": [
    "# finding average of reading score\n",
    "\n",
    "average_reading = combined_df[\"reading_score\"].mean()\n",
    "average_reading"
   ]
  },
  {
   "cell_type": "code",
   "execution_count": null,
   "metadata": {},
   "outputs": [],
   "source": [
    "# find unique number of students\n",
    "\n",
    "num_students = combined_df[\"student_name\"].count()\n",
    "num_students"
   ]
  },
  {
   "cell_type": "code",
   "execution_count": null,
   "metadata": {},
   "outputs": [],
   "source": [
    "# finding sum of the budget\n",
    "\n",
    "budget = combined_df[\"budget\"].unique()\n",
    "total_budget = budget.sum()\n",
    "\n",
    "total_budget"
   ]
  },
  {
   "cell_type": "code",
   "execution_count": null,
   "metadata": {},
   "outputs": [],
   "source": [
    "#finding average of reading score\n",
    "\n",
    "average_reading = combined_df[\"reading_score\"].mean()\n",
    "average_reading"
   ]
  },
  {
   "cell_type": "code",
   "execution_count": null,
   "metadata": {},
   "outputs": [],
   "source": [
    "# finding average of math scores\n",
    "\n",
    "average_math_score = combined_df[\"math_score\"].mean()\n",
    "average_math_score"
   ]
  },
  {
   "cell_type": "code",
   "execution_count": null,
   "metadata": {},
   "outputs": [],
   "source": [
    "#  craete new dataframe to aggregate passing math scores\n",
    "\n",
    "only_passing_math = combined_df.loc[(combined_df[\"math_score\"]> 69)]\n",
    "only_passing_math.head(3)"
   ]
  },
  {
   "cell_type": "code",
   "execution_count": null,
   "metadata": {},
   "outputs": [],
   "source": [
    "# perform calculation on dataframe to find the % of students passing math\n",
    "only_passing_math[\"math_score\"].count()\n",
    "\n",
    "percent_passing_math = (only_passing_math[\"math_score\"].count()/\n",
    "                        combined_df[\"student_name\"].count() * 100)\n",
    "percent_passing_math"
   ]
  },
  {
   "cell_type": "code",
   "execution_count": null,
   "metadata": {},
   "outputs": [],
   "source": [
    "# new dataframe to aggregate passing reading scores\n",
    "\n",
    "only_passing_reading = combined_df.loc[(combined_df[\"reading_score\"]> 69)]\n",
    "only_passing_reading.head(3)"
   ]
  },
  {
   "cell_type": "code",
   "execution_count": null,
   "metadata": {},
   "outputs": [],
   "source": [
    "# perform calculation on dataframe to find % of students passing reading\n",
    "\n",
    "only_passing_reading[\"reading_score\"].count()\n",
    "\n",
    "percent_passing_reading = (only_passing_reading[\"reading_score\"].count()/\n",
    "                        combined_df[\"student_name\"].count() * 100)\n",
    "\n",
    "percent_passing_reading"
   ]
  },
  {
   "cell_type": "code",
   "execution_count": null,
   "metadata": {},
   "outputs": [],
   "source": [
    "\n",
    "# find overall passing rate\n",
    "\n",
    "overall_passing_rate = ((percent_passing_reading) + (percent_passing_math)) / 2\n",
    "\n",
    "overall_passing_rate"
   ]
  },
  {
   "cell_type": "code",
   "execution_count": null,
   "metadata": {},
   "outputs": [],
   "source": []
  },
  {
   "cell_type": "markdown",
   "metadata": {},
   "source": [
    "## District Summary"
   ]
  },
  {
   "cell_type": "code",
   "execution_count": null,
   "metadata": {},
   "outputs": [],
   "source": [
    "# create new district summery table from above info\n",
    "\n",
    "Sum_DF =pd.DataFrame({\"Total Schools\": [num_schools],\n",
    " \"Total Budget\": [total_budget],\n",
    "  \"Average Math Score\": [average_math_score],\n",
    "  \"Average Reading Score\": [average_reading],\n",
    "   \"% Passing Math\" :[percent_passing_math],\n",
    "  \"% Passing Reading\" :[percent_passing_reading],\n",
    "  \"Overall Passing Rate\" :[overall_passing_rate]\n",
    " })\n",
    "\n",
    "Sum_DF\n",
    "\n",
    "# map to clean up formatting\n",
    "\n",
    "Sum_DF[\"Total Budget\"] = Sum_DF[\"Total Budget\"].map(\"{:,}\".format)\n",
    "Sum_DF[\"Average Math Score\"] = Sum_DF[\"Average Math Score\"].map(\"{:.2f}\".format)\n",
    "Sum_DF[\"Average Reading Score\"] = Sum_DF[\"Average Reading Score\"].map(\"{:.2f}\".format)\n",
    "Sum_DF[\"% Passing Math\"] = Sum_DF[\"% Passing Math\"].map(\"% {:.2f}\".format)\n",
    "Sum_DF[\"% Passing Reading\"] = Sum_DF[\"% Passing Reading\"].map(\"% {:.2f}\".format)\n",
    "Sum_DF[\"Overall Passing Rate\"] = Sum_DF[\"Overall Passing Rate\"].map(\"% {:.2f}\".format)\n",
    "Sum_DF.head()\n",
    "\n",
    "\n",
    "\n",
    "#file_df[\"avg_cost\"] = file_df[\"avg_cost\"].map(\"${:.2f}\".format)\n",
    "#file_df[\"population\"] = file_df[\"population\"].map(\"{:,}\".format)\n",
    "#file_df[\"other\"] = file_df[\"other\"].map(\"{:.2f}\".format)\n",
    "#file_df.head()\n",
    "\n"
   ]
  },
  {
   "cell_type": "markdown",
   "metadata": {},
   "source": [
    "# District Summary"
   ]
  },
  {
   "cell_type": "code",
   "execution_count": null,
   "metadata": {},
   "outputs": [],
   "source": [
    "Sum_DF"
   ]
  },
  {
   "cell_type": "code",
   "execution_count": null,
   "metadata": {},
   "outputs": [],
   "source": [
    "# using school_df to create next dataframe\n",
    "school_df.head()"
   ]
  },
  {
   "cell_type": "code",
   "execution_count": null,
   "metadata": {},
   "outputs": [],
   "source": [
    "# performing calculation on schools_df to find per student budget value\n",
    "\n",
    "Per_stud_bud = school_df[\"budget\"]/school_df[\"size\"]\n",
    "Per_stud_bud"
   ]
  },
  {
   "cell_type": "code",
   "execution_count": null,
   "metadata": {},
   "outputs": [],
   "source": [
    "# creating new column in school_df to show budget per student\n",
    "\n",
    "school_df['per_student'] = school_df['budget']/school_df['size']\n",
    "school_df.head(2)"
   ]
  },
  {
   "cell_type": "code",
   "execution_count": null,
   "metadata": {},
   "outputs": [],
   "source": [
    "# performing calculation to find average math score\n",
    "\n",
    "aver_math_score = combined_df.groupby(['school_name'])['math_score'].mean()\n",
    "\n",
    "print(aver_math_score)"
   ]
  },
  {
   "cell_type": "code",
   "execution_count": null,
   "metadata": {},
   "outputs": [],
   "source": [
    "# creating new df to show average math score\n",
    "\n",
    "new_math_df = combined_df.groupby('school_name')[['math_score']].mean()\n",
    "new_math_df.head()"
   ]
  },
  {
   "cell_type": "code",
   "execution_count": null,
   "metadata": {},
   "outputs": [],
   "source": [
    "# merging new df with prevoius school_df adding average math score\n",
    "\n",
    "combo_w_math = pd.merge(school_df, new_math_df, on=\"school_name\")\n",
    "combo_w_math.tail(1)"
   ]
  },
  {
   "cell_type": "code",
   "execution_count": null,
   "metadata": {},
   "outputs": [],
   "source": [
    "# craeting new df to show average reading score\n",
    "\n",
    "new_reading_df = combined_df.groupby('school_name')[['reading_score']].mean()\n",
    "new_reading_df.head(2)"
   ]
  },
  {
   "cell_type": "code",
   "execution_count": null,
   "metadata": {},
   "outputs": [],
   "source": [
    "# merging new df with reading average with prevoius school_df\n",
    "\n",
    "combo_w_reading = pd.merge(combo_w_math, new_reading_df, on=\"school_name\")\n",
    "combo_w_reading.head(15)\n",
    "\n",
    "# CLEAN UP TABLE AND FORMATT"
   ]
  },
  {
   "cell_type": "code",
   "execution_count": null,
   "metadata": {},
   "outputs": [],
   "source": [
    "# generate new df to count unique students passing math\n",
    "\n",
    "with_passing_math = combined_df.loc[(combined_df[\"math_score\"] > 69)] \n",
    "with_passing_math.head()"
   ]
  },
  {
   "cell_type": "code",
   "execution_count": null,
   "metadata": {},
   "outputs": [],
   "source": [
    "# calculating unique number of students passing math from df and assigning to new variable\n",
    "M_S_counts = with_passing_math[\"school_name\"].value_counts()\n",
    "M_S_counts"
   ]
  },
  {
   "cell_type": "code",
   "execution_count": null,
   "metadata": {},
   "outputs": [],
   "source": [
    "# making previous ready to manipulate\n",
    "\n",
    "school_name = school_df[\"school_name\"]\n",
    "school_name"
   ]
  },
  {
   "cell_type": "code",
   "execution_count": null,
   "metadata": {},
   "outputs": [],
   "source": [
    "# pass_math_counts counts the number of students in each school that passed math. Creating new DF to show school matching with passing math count.\n",
    "\n",
    "pass_math_count = pd.DataFrame({\"pass math count\": M_S_counts})\n",
    "pass_math_count.head(3)\n",
    "\n",
    "#setting schools to be index\n",
    "\n",
    "pass_math_count['school_name'] = pass_math_count.index\n",
    "pass_math_count.head(1)"
   ]
  },
  {
   "cell_type": "code",
   "execution_count": null,
   "metadata": {},
   "outputs": [],
   "source": [
    "# new df updated with passing math count included\n",
    "\n",
    "updated_with_math_count = pd.merge(combo_w_reading, pass_math_count, on=\"school_name\")\n",
    "updated_with_math_count.head()"
   ]
  },
  {
   "cell_type": "code",
   "execution_count": null,
   "metadata": {},
   "outputs": [],
   "source": [
    "# now do same steps as above to find number students passing reading\n",
    "# create new df counting unique students who passed reading\n",
    "\n",
    "with_passing_reading = combined_df.loc[(combined_df[\"reading_score\"] > 69)] \n",
    "with_passing_reading.head()"
   ]
  },
  {
   "cell_type": "code",
   "execution_count": null,
   "metadata": {},
   "outputs": [],
   "source": [
    "# find count of students passing reading\n",
    "\n",
    "Read_counts = with_passing_reading[\"school_name\"].value_counts()\n",
    "Read_counts"
   ]
  },
  {
   "cell_type": "code",
   "execution_count": null,
   "metadata": {},
   "outputs": [],
   "source": [
    "# creating new DF to show number of students passing reading per school\n",
    "\n",
    "pass_reading_count = pd.DataFrame({\"pass reading count\": Read_counts})\n",
    "pass_reading_count.head(3)\n",
    "\n",
    "# setting index to school name\n",
    "pass_reading_count['school_name'] = pass_reading_count.index\n",
    "\n",
    "pass_reading_count.head(3)"
   ]
  },
  {
   "cell_type": "code",
   "execution_count": null,
   "metadata": {},
   "outputs": [],
   "source": [
    "# create new DF adding the passing reading count per school\n",
    "\n",
    "updated_with_reading_count = pd.merge(updated_with_math_count, pass_reading_count, on=\"school_name\")\n",
    "updated_with_reading_count.head()"
   ]
  },
  {
   "cell_type": "code",
   "execution_count": null,
   "metadata": {},
   "outputs": [],
   "source": [
    "# perform calculation to find % of student who passed reading\n",
    "\n",
    "updated_with_reading_count['% passing reading'] = updated_with_reading_count['pass reading count']/updated_with_reading_count[\"size\"]\n",
    "\n",
    "updated_with_reading_count.head(1)"
   ]
  },
  {
   "cell_type": "code",
   "execution_count": null,
   "metadata": {},
   "outputs": [],
   "source": [
    "\n",
    "# same as above for passing math\n",
    "\n",
    "updated_with_reading_count[\"% passing math\"] = updated_with_reading_count[\"pass math count\"] / updated_with_reading_count['size']\n",
    "updated_with_reading_count.head(1)"
   ]
  },
  {
   "cell_type": "code",
   "execution_count": null,
   "metadata": {},
   "outputs": [],
   "source": [
    "# find total passing\n",
    "\n",
    "updated_with_reading_count [\"Total Passing\"] = (updated_with_reading_count['% passing math'] + updated_with_reading_count ['% passing reading']) / 2\n",
    "updated_with_reading_count.head(1)"
   ]
  },
  {
   "cell_type": "code",
   "execution_count": null,
   "metadata": {},
   "outputs": [],
   "source": [
    "# Rename columns and clean up the DF\n",
    "\n",
    "District_DF = updated_with_reading_count\n",
    "''\n",
    "District_DF = District_DF.rename(columns={'school_name': 'School','type': 'Type', 'budget':'Budget','per_student': 'Budget Per Student', 'math_score': \"Average Math Score\",\n",
    "                           \n",
    "                           'reading_score': \"Average Reading Score\"})"
   ]
  },
  {
   "cell_type": "markdown",
   "metadata": {},
   "source": [
    "# School Summary"
   ]
  },
  {
   "cell_type": "code",
   "execution_count": null,
   "metadata": {},
   "outputs": [],
   "source": [
    "# cleaned up School Summary\n",
    "District_DF"
   ]
  },
  {
   "cell_type": "markdown",
   "metadata": {},
   "source": []
  },
  {
   "cell_type": "code",
   "execution_count": null,
   "metadata": {},
   "outputs": [],
   "source": [
    "District_DF.dtypes"
   ]
  },
  {
   "cell_type": "markdown",
   "metadata": {},
   "source": [
    "# Top Performing Schools"
   ]
  },
  {
   "cell_type": "code",
   "execution_count": null,
   "metadata": {},
   "outputs": [],
   "source": [
    "# finding top 5 performing schools based on overall passing\n",
    "\n",
    "top_performers = District_DF.nlargest(5,\"Total Passing\")\n",
    "top_performers"
   ]
  },
  {
   "cell_type": "markdown",
   "metadata": {},
   "source": [
    "# Lowest Performing School"
   ]
  },
  {
   "cell_type": "code",
   "execution_count": null,
   "metadata": {},
   "outputs": [],
   "source": [
    "# finding lowest performing schools\n",
    "\n",
    "low_performers = District_DF.nsmallest(5, \"Total Passing\")\n",
    "low_performers"
   ]
  },
  {
   "cell_type": "code",
   "execution_count": null,
   "metadata": {},
   "outputs": [],
   "source": [
    "# look at students df again for next step\n",
    "\n",
    "students_df.head()"
   ]
  },
  {
   "cell_type": "code",
   "execution_count": null,
   "metadata": {},
   "outputs": [],
   "source": [
    "# use conditional statement find average math score for 9th Grade Students and peform groupby operation\n",
    "\n",
    "grade_math9 = students_df.loc[(students_df['grade'] == '9th')]\n",
    "grade_math9\n",
    "\n",
    "grade_math9 = grade_math9.groupby(\"school_name\")[\"math_score\"].mean()\n",
    "\n",
    "grade_math9.head()"
   ]
  },
  {
   "cell_type": "code",
   "execution_count": null,
   "metadata": {},
   "outputs": [],
   "source": [
    "# create summarry table in DF form from above calculation\n",
    "\n",
    "sum_table9 = pd.DataFrame({\"9th Grade\" : grade_math9 })\n",
    "\n",
    "sum_table9"
   ]
  },
  {
   "cell_type": "code",
   "execution_count": null,
   "metadata": {},
   "outputs": [],
   "source": [
    "# same as above for 10th Graders\n",
    "\n",
    "grade_math10 = students_df.loc[(students_df['grade'] == '10th')]\n",
    "grade_math10\n",
    "\n",
    "grade_math10 = grade_math10.groupby(\"school_name\")[\"math_score\"].mean()\n",
    "\n",
    "grade_math10.head()"
   ]
  },
  {
   "cell_type": "code",
   "execution_count": null,
   "metadata": {},
   "outputs": [],
   "source": [
    "# craet DF from above Calc\n",
    "    \n",
    "sum_table10 = pd.DataFrame({\"10th Grade\" : grade_math10 })\n",
    "\n",
    "sum_table10"
   ]
  },
  {
   "cell_type": "code",
   "execution_count": null,
   "metadata": {},
   "outputs": [],
   "source": [
    "# Merge 9th and 10th Grade DF's\n",
    "\n",
    "combo910 = pd.merge(sum_table9, sum_table10, on = \"school_name\")\n",
    "combo910"
   ]
  },
  {
   "cell_type": "code",
   "execution_count": null,
   "metadata": {},
   "outputs": [],
   "source": [
    "# same steps for 11th Grade\n",
    "\n",
    "grade_math11 = students_df.loc[(students_df['grade'] == '11th')]\n",
    "grade_math11\n",
    "\n",
    "grade_math11 = grade_math11.groupby(\"school_name\")[\"math_score\"].mean()\n",
    "\n",
    "grade_math11.head()"
   ]
  },
  {
   "cell_type": "code",
   "execution_count": null,
   "metadata": {},
   "outputs": [],
   "source": [
    "# same for 11th\n",
    "\n",
    "sum_table11 = pd.DataFrame({\"11th Grade\" : grade_math11})\n",
    "\n",
    "sum_table11"
   ]
  },
  {
   "cell_type": "code",
   "execution_count": null,
   "metadata": {},
   "outputs": [],
   "source": [
    "# same for 12th Grade\n",
    "    \n",
    "grade_math12 = students_df.loc[(students_df['grade'] == '12th')]\n",
    "grade_math12\n",
    "\n",
    "grade_math12 = grade_math12.groupby(\"school_name\")[\"math_score\"].mean()\n",
    "\n",
    "grade_math12.head()\n",
    "\n",
    "# create DF\n",
    "\n",
    "sum_table12 = pd.DataFrame({\"12th Grade\" : grade_math12 })\n",
    "\n",
    "sum_table12"
   ]
  },
  {
   "cell_type": "code",
   "execution_count": null,
   "metadata": {},
   "outputs": [],
   "source": [
    "# merging 11th with 9th and 10th\n",
    "\n",
    "combo91011 = pd.merge(combo910, sum_table11, on = \"school_name\")\n",
    "combo91011"
   ]
  },
  {
   "cell_type": "markdown",
   "metadata": {},
   "source": [
    "# Average Math Scores by Grade"
   ]
  },
  {
   "cell_type": "code",
   "execution_count": null,
   "metadata": {},
   "outputs": [],
   "source": [
    "# last merge to combine grades 9th-12th\n",
    "all_school_math_ave = pd.merge(combo91011, sum_table12, on = \"school_name\")\n",
    "all_school_math_ave\n"
   ]
  },
  {
   "cell_type": "code",
   "execution_count": null,
   "metadata": {},
   "outputs": [],
   "source": [
    "# repeat all steps for reading\n",
    "# just 9th\n",
    "\n",
    "reading9 = students_df.loc[(students_df['grade'] == '9th')]\n",
    "grade_math9\n",
    "\n",
    "reading9 = reading9.groupby(\"school_name\")[\"reading_score\"].mean()\n",
    "\n",
    "reading9.head()\n",
    "\n",
    "# turn groupby object into DF\n",
    "\n",
    "reading_table9 = pd.DataFrame({\"9th Grade\" : reading9 })\n",
    "\n",
    "reading_table9"
   ]
  },
  {
   "cell_type": "code",
   "execution_count": null,
   "metadata": {},
   "outputs": [],
   "source": [
    "# just 10th\n",
    "\n",
    "reading10 = students_df.loc[(students_df['grade'] == '10th')]\n",
    "reading10\n",
    "\n",
    "reading10 = reading10.groupby(\"school_name\")[\"reading_score\"].mean()\n",
    "\n",
    "reading10.head()\n",
    "\n",
    "# turn groupby object into DF\n",
    "\n",
    "reading_table10 = pd.DataFrame({\"10th\" : reading10 })\n",
    "\n",
    "reading_table10"
   ]
  },
  {
   "cell_type": "code",
   "execution_count": null,
   "metadata": {},
   "outputs": [],
   "source": [
    "\n",
    "# merge 9th and 10th\n",
    "reading_combo9_10 = pd.merge(reading9, reading10, on= \"school_name\")\n",
    "reading_combo9_10"
   ]
  },
  {
   "cell_type": "code",
   "execution_count": null,
   "metadata": {},
   "outputs": [],
   "source": [
    "# just 11th\n",
    "\n",
    "reading11 = students_df.loc[(students_df['grade'] == '11th')]\n",
    "reading10\n",
    "\n",
    "reading11 = reading11.groupby(\"school_name\")[\"reading_score\"].mean()\n",
    "\n",
    "reading11.head()\n",
    "\n",
    "# turn groupby object into DF\n",
    "\n",
    "reading_table11 = pd.DataFrame({\"11th\" : reading11 })\n",
    "\n",
    "reading_table11"
   ]
  },
  {
   "cell_type": "code",
   "execution_count": null,
   "metadata": {},
   "outputs": [],
   "source": [
    "# ave reading score for 12th\n",
    "\n",
    "reading12 = students_df.loc[(students_df['grade'] == '12th')]\n",
    "reading12\n",
    "\n",
    "reading12 = reading12.groupby(\"school_name\")[\"reading_score\"].mean()\n",
    "\n",
    "reading12.head()\n",
    "\n",
    "# turn groupby object into DF\n",
    "\n",
    "reading_table12 = pd.DataFrame({\"12th\" : reading12 })\n",
    "\n",
    "reading_table12"
   ]
  },
  {
   "cell_type": "code",
   "execution_count": null,
   "metadata": {},
   "outputs": [],
   "source": [
    "# combine 11th and 12th\n",
    "\n",
    "combo1112 = pd.merge(reading11, reading12, on = \"school_name\")\n",
    "combo1112"
   ]
  },
  {
   "cell_type": "markdown",
   "metadata": {},
   "source": [
    "# Average Reading Scores by Grade"
   ]
  },
  {
   "cell_type": "code",
   "execution_count": null,
   "metadata": {},
   "outputs": [],
   "source": [
    "# last merge to combine grades 9th-12th\n",
    "\n",
    "total_reading = pd.merge(reading_combo9_10, combo1112, on = \"school_name\")\n",
    "total_reading\n",
    "\n",
    "total_reading.columns = ['9th Grade','10th Grade','11th Grade','12th Grade']\n",
    "total_reading\n",
    "\n",
    "# FORMATT ALL"
   ]
  },
  {
   "cell_type": "code",
   "execution_count": null,
   "metadata": {},
   "outputs": [],
   "source": [
    "# looking at Distrct_DF for next steps\n",
    "\n",
    "District_DF.head(1)"
   ]
  },
  {
   "cell_type": "code",
   "execution_count": null,
   "metadata": {},
   "outputs": [],
   "source": [
    "# created new DF from Distrcit_Df to manipulate\n",
    "\n",
    "Bins_Spending = District_DF\n",
    "Bins_Spending"
   ]
  },
  {
   "cell_type": "code",
   "execution_count": null,
   "metadata": {},
   "outputs": [],
   "source": [
    "# creating bins to aggragate peformance for schools spending diff. amounts in their budget per student\n",
    "\n",
    "bins = [0, 585, 615, 645, 675]\n",
    "student_spending = [\"<$585\", \"$585-615\", \"$615-645\", \"$645-675\"]\n",
    "\n",
    "Bins_Spending[\"Spending\"] = pd.cut(Bins_Spending[\"Budget Per Student\"], bins, labels= student_spending )\n",
    "Bins_Spending.head(1)"
   ]
  },
  {
   "cell_type": "code",
   "execution_count": null,
   "metadata": {},
   "outputs": [],
   "source": [
    "# use groupby to show spending bins\n",
    "\n",
    "by_spending = Bins_Spending.groupby(\"Spending\").mean()\n",
    "by_spending\n",
    "\n",
    "# FORMATT ALL"
   ]
  },
  {
   "cell_type": "markdown",
   "metadata": {},
   "source": [
    "# Scores by Spending"
   ]
  },
  {
   "cell_type": "code",
   "execution_count": null,
   "metadata": {},
   "outputs": [],
   "source": [
    "# copying above DF and extracting columns needed\n",
    "by_spending[[\"Average Math Score\",\"Average Reading Score\",\"% passing math\", \"% passing reading\", \"Total Passing\"]].copy()"
   ]
  },
  {
   "cell_type": "code",
   "execution_count": null,
   "metadata": {},
   "outputs": [],
   "source": [
    "# same steps as above but bins to show size of school\n",
    "\n",
    "bins_size = District_DF\n",
    "bins_size.head(1)"
   ]
  },
  {
   "cell_type": "code",
   "execution_count": null,
   "metadata": {},
   "outputs": [],
   "source": [
    "# craeting bins\n",
    "\n",
    "bins = [0, 1000, 2500, 5000]\n",
    "\n",
    "school_size = [\"<1000\", \"1000-2500\", \"2500-5000\"]\n",
    "\n",
    "bins_size[\"Size\"] = pd.cut(bins_size[\"size\"], bins, labels=school_size)\n",
    "bins_size.head(1)"
   ]
  },
  {
   "cell_type": "code",
   "execution_count": null,
   "metadata": {},
   "outputs": [],
   "source": [
    "# use groupby to show spending bins\n",
    "\n",
    "by_size = bins_size.groupby(\"Size\").mean()\n",
    "by_size"
   ]
  },
  {
   "cell_type": "markdown",
   "metadata": {},
   "source": [
    "# Scores by School Size"
   ]
  },
  {
   "cell_type": "code",
   "execution_count": null,
   "metadata": {},
   "outputs": [],
   "source": [
    "# making copy and then extracting values needed\n",
    "\n",
    "by_size[[\"Average Math Score\",\"Average Reading Score\",\"% passing math\", \"% passing reading\", \"Total Passing\"]].copy()"
   ]
  },
  {
   "cell_type": "code",
   "execution_count": null,
   "metadata": {},
   "outputs": [],
   "source": [
    "by_type = District_DF\n",
    "by_type.head(1)"
   ]
  },
  {
   "cell_type": "code",
   "execution_count": null,
   "metadata": {},
   "outputs": [],
   "source": [
    "# last one to figure out!\n",
    "bins = [0, \"Charter\", \"District\"]\n",
    "\n",
    "\n",
    "\n",
    "type = [\"Charter\",\"District\"]\n",
    "\n",
    "by_type[\"Type\"] = pd.cut(by_type[\"Type\"], bins, labels=type)\n",
    "by_type.head(1)"
   ]
  },
  {
   "cell_type": "code",
   "execution_count": null,
   "metadata": {},
   "outputs": [],
   "source": []
  }
 ],
 "metadata": {
  "kernelspec": {
   "display_name": "Python [conda env:PythonData]",
   "language": "python",
   "name": "conda-env-PythonData-py"
  },
  "language_info": {
   "codemirror_mode": {
    "name": "ipython",
    "version": 3
   },
   "file_extension": ".py",
   "mimetype": "text/x-python",
   "name": "python",
   "nbconvert_exporter": "python",
   "pygments_lexer": "ipython3",
   "version": "3.6.9"
  }
 },
 "nbformat": 4,
 "nbformat_minor": 4
}
